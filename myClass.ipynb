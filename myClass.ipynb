{
  "nbformat": 4,
  "nbformat_minor": 0,
  "metadata": {
    "colab": {
      "name": "Untitled10.ipynb",
      "provenance": [],
      "authorship_tag": "ABX9TyMeOmf+buPdhQ0/4hcXlU6x",
      "include_colab_link": true
    },
    "kernelspec": {
      "name": "python3",
      "display_name": "Python 3"
    }
  },
  "cells": [
    {
      "cell_type": "markdown",
      "metadata": {
        "id": "view-in-github",
        "colab_type": "text"
      },
      "source": [
        "<a href=\"https://colab.research.google.com/github/vakilarora/DL4CV1/blob/master/myClass.ipynb\" target=\"_parent\"><img src=\"https://colab.research.google.com/assets/colab-badge.svg\" alt=\"Open In Colab\"/></a>"
      ]
    },
    {
      "cell_type": "code",
      "metadata": {
        "id": "QbYk-w0fvO29",
        "colab_type": "code",
        "colab": {
          "base_uri": "https://localhost:8080/",
          "height": 34
        },
        "outputId": "e2a9fdde-6223-490e-ab0e-af262b73994d"
      },
      "source": [
        "class myClass:\n",
        "  def __init__(self):\n",
        "    print(\"This is a constructor\")\n",
        "\n",
        "  def func1(self):\n",
        "    print(\"Func1\")\n",
        "\n",
        "myClass.func1(myClass)\n",
        "\n"
      ],
      "execution_count": 8,
      "outputs": [
        {
          "output_type": "stream",
          "text": [
            "Func1\n"
          ],
          "name": "stdout"
        }
      ]
    }
  ]
}